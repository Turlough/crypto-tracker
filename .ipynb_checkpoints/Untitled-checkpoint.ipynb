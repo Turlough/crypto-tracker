{
 "cells": [
  {
   "cell_type": "code",
   "execution_count": null,
   "metadata": {},
   "outputs": [],
   "source": [
    "import requests\n",
    "from bs4 import BeautifulSoup\n",
    "import re\n",
    "import pandas as pd\n",
    "\n",
    "\n",
    "url = 'https://www.coinbase.com/price/bitcoin'\n",
    "content = requests.get(url).text\n",
    "soup = BeautifulSoup(content, features='html.parser')"
   ]
  },
  {
   "cell_type": "code",
   "execution_count": null,
   "metadata": {},
   "outputs": [],
   "source": [
    "def get_data(div_id):\n",
    "    '''Find the script element following div with id div_id'''\n",
    "    script = soup.find('div', id = div_id).findNext('script')\n",
    "\n",
    "    # Find the data line\n",
    "    lines = script.text.split('\\n')\n",
    "    datas = [l for l in lines if l.strip().startswith('data')]\n",
    "    data_line = datas[0].strip()\n",
    "\n",
    "    # Extract the data from the data_line\n",
    "    counts_text = re.findall('[0-9]+', data_line)\n",
    "    counts = list(map(int, counts_text))\n",
    "\n",
    "    # Create DataFrame with Cumulative Sum of the daily data\n",
    "    df = pd.DataFrame(counts, columns=['DailyIncrease'])\n",
    "    df['Total'] = df.DailyIncrease.cumsum()\n",
    "    \n",
    "    return df"
   ]
  },
  {
   "cell_type": "code",
   "execution_count": null,
   "metadata": {},
   "outputs": [],
   "source": [
    "df = get_data('graph-cases-daily')\n",
    "print(df)"
   ]
  }
 ],
 "metadata": {
  "kernelspec": {
   "display_name": "venv",
   "language": "python",
   "name": "venv"
  },
  "language_info": {
   "codemirror_mode": {
    "name": "ipython",
    "version": 3
   },
   "file_extension": ".py",
   "mimetype": "text/x-python",
   "name": "python",
   "nbconvert_exporter": "python",
   "pygments_lexer": "ipython3",
   "version": "3.7.3"
  }
 },
 "nbformat": 4,
 "nbformat_minor": 2
}
